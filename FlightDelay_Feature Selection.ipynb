{
 "cells": [
  {
   "cell_type": "code",
   "execution_count": 1,
   "metadata": {},
   "outputs": [],
   "source": [
    "\n",
    "import pandas as pd\n",
    "APC=pd.read_csv(\"/Users/zoyasyed/Downloads/DataScienceEssential_Module3/Module3_project/Airport Codes Dataset.csv\")\n",
    "FDD=pd.read_csv(\"/Users/zoyasyed/Downloads/DataScienceEssential_Module3/Module3_project/FlightDelaysData.csv\")"
   ]
  },
  {
   "cell_type": "code",
   "execution_count": 2,
   "metadata": {},
   "outputs": [],
   "source": [
    "df1=FDD.merge(APC, left_on='OriginAirportID', right_on='airport_id',how='inner')\n",
    "df1=df1.merge(APC, left_on='DestAirportID', right_on='airport_id',how='left')\n"
   ]
  },
  {
   "cell_type": "code",
   "execution_count": 3,
   "metadata": {},
   "outputs": [],
   "source": [
    "cols=['Year','Month','DayofMonth','DayOfWeek','Carrier','OriginAirportID','DestAirportID','CRSDepTime','CRSArrTime']\n",
    "df1=df1.drop_duplicates(cols,keep='first')\n"
   ]
  },
  {
   "cell_type": "code",
   "execution_count": 4,
   "metadata": {},
   "outputs": [
    {
     "name": "stdout",
     "output_type": "stream",
     "text": [
      "6.566923476050022\n"
     ]
    },
    {
     "data": {
      "text/plain": [
       "Year               False\n",
       "Month              False\n",
       "DayofMonth         False\n",
       "DayOfWeek          False\n",
       "Carrier            False\n",
       "OriginAirportID    False\n",
       "DestAirportID      False\n",
       "CRSDepTime         False\n",
       "DepDelay           False\n",
       "DepDel15           False\n",
       "CRSArrTime         False\n",
       "ArrDelay           False\n",
       "ArrDel15           False\n",
       "Cancelled          False\n",
       "airport_id_x       False\n",
       "city_x             False\n",
       "state_x            False\n",
       "name_x             False\n",
       "airport_id_y       False\n",
       "city_y             False\n",
       "state_y            False\n",
       "name_y             False\n",
       "dtype: bool"
      ]
     },
     "execution_count": 4,
     "metadata": {},
     "output_type": "execute_result"
    }
   ],
   "source": [
    "import numpy as np\n",
    "\n",
    "df1= df1.fillna(0)\n",
    "\n",
    "\n",
    "print(df1.ArrDelay.mean())\n",
    "\n",
    "df1.isna().any()\n"
   ]
  },
  {
   "cell_type": "code",
   "execution_count": 5,
   "metadata": {},
   "outputs": [
    {
     "name": "stdout",
     "output_type": "stream",
     "text": [
      "<class 'pandas.core.frame.DataFrame'>\n",
      "Int64Index: 2719397 entries, 0 to 2719417\n",
      "Data columns (total 22 columns):\n",
      " #   Column           Dtype  \n",
      "---  ------           -----  \n",
      " 0   Year             int64  \n",
      " 1   Month            int64  \n",
      " 2   DayofMonth       int64  \n",
      " 3   DayOfWeek        int64  \n",
      " 4   Carrier          object \n",
      " 5   OriginAirportID  int64  \n",
      " 6   DestAirportID    int64  \n",
      " 7   CRSDepTime       int64  \n",
      " 8   DepDelay         float64\n",
      " 9   DepDel15         float64\n",
      " 10  CRSArrTime       int64  \n",
      " 11  ArrDelay         float64\n",
      " 12  ArrDel15         float64\n",
      " 13  Cancelled        float64\n",
      " 14  airport_id_x     int64  \n",
      " 15  city_x           object \n",
      " 16  state_x          object \n",
      " 17  name_x           object \n",
      " 18  airport_id_y     int64  \n",
      " 19  city_y           object \n",
      " 20  state_y          object \n",
      " 21  name_y           object \n",
      "dtypes: float64(5), int64(10), object(7)\n",
      "memory usage: 477.2+ MB\n"
     ]
    },
    {
     "data": {
      "text/html": [
       "<div>\n",
       "<style scoped>\n",
       "    .dataframe tbody tr th:only-of-type {\n",
       "        vertical-align: middle;\n",
       "    }\n",
       "\n",
       "    .dataframe tbody tr th {\n",
       "        vertical-align: top;\n",
       "    }\n",
       "\n",
       "    .dataframe thead th {\n",
       "        text-align: right;\n",
       "    }\n",
       "</style>\n",
       "<table border=\"1\" class=\"dataframe\">\n",
       "  <thead>\n",
       "    <tr style=\"text-align: right;\">\n",
       "      <th></th>\n",
       "      <th>Year</th>\n",
       "      <th>Month</th>\n",
       "      <th>DayofMonth</th>\n",
       "      <th>DayOfWeek</th>\n",
       "      <th>Carrier</th>\n",
       "      <th>OriginAirportID</th>\n",
       "      <th>DestAirportID</th>\n",
       "      <th>CRSDepTime</th>\n",
       "      <th>DepDelay</th>\n",
       "      <th>DepDel15</th>\n",
       "      <th>...</th>\n",
       "      <th>ArrDel15</th>\n",
       "      <th>Cancelled</th>\n",
       "      <th>airport_id_x</th>\n",
       "      <th>city_x</th>\n",
       "      <th>state_x</th>\n",
       "      <th>name_x</th>\n",
       "      <th>airport_id_y</th>\n",
       "      <th>city_y</th>\n",
       "      <th>state_y</th>\n",
       "      <th>name_y</th>\n",
       "    </tr>\n",
       "  </thead>\n",
       "  <tbody>\n",
       "    <tr>\n",
       "      <th>0</th>\n",
       "      <td>2013</td>\n",
       "      <td>4</td>\n",
       "      <td>19</td>\n",
       "      <td>5</td>\n",
       "      <td>DL</td>\n",
       "      <td>11433</td>\n",
       "      <td>13303</td>\n",
       "      <td>837</td>\n",
       "      <td>-3.0</td>\n",
       "      <td>0.0</td>\n",
       "      <td>...</td>\n",
       "      <td>0.0</td>\n",
       "      <td>0.0</td>\n",
       "      <td>11433</td>\n",
       "      <td>Detroit</td>\n",
       "      <td>MI</td>\n",
       "      <td>Detroit Metro Wayne County</td>\n",
       "      <td>13303</td>\n",
       "      <td>Miami</td>\n",
       "      <td>FL</td>\n",
       "      <td>Miami International</td>\n",
       "    </tr>\n",
       "    <tr>\n",
       "      <th>1</th>\n",
       "      <td>2013</td>\n",
       "      <td>4</td>\n",
       "      <td>19</td>\n",
       "      <td>5</td>\n",
       "      <td>DL</td>\n",
       "      <td>11433</td>\n",
       "      <td>11298</td>\n",
       "      <td>835</td>\n",
       "      <td>22.0</td>\n",
       "      <td>1.0</td>\n",
       "      <td>...</td>\n",
       "      <td>1.0</td>\n",
       "      <td>0.0</td>\n",
       "      <td>11433</td>\n",
       "      <td>Detroit</td>\n",
       "      <td>MI</td>\n",
       "      <td>Detroit Metro Wayne County</td>\n",
       "      <td>11298</td>\n",
       "      <td>Dallas/Fort Worth</td>\n",
       "      <td>TX</td>\n",
       "      <td>Dallas/Fort Worth International</td>\n",
       "    </tr>\n",
       "    <tr>\n",
       "      <th>2</th>\n",
       "      <td>2013</td>\n",
       "      <td>4</td>\n",
       "      <td>19</td>\n",
       "      <td>5</td>\n",
       "      <td>DL</td>\n",
       "      <td>11433</td>\n",
       "      <td>12892</td>\n",
       "      <td>1935</td>\n",
       "      <td>-2.0</td>\n",
       "      <td>0.0</td>\n",
       "      <td>...</td>\n",
       "      <td>0.0</td>\n",
       "      <td>0.0</td>\n",
       "      <td>11433</td>\n",
       "      <td>Detroit</td>\n",
       "      <td>MI</td>\n",
       "      <td>Detroit Metro Wayne County</td>\n",
       "      <td>12892</td>\n",
       "      <td>Los Angeles</td>\n",
       "      <td>CA</td>\n",
       "      <td>Los Angeles International</td>\n",
       "    </tr>\n",
       "    <tr>\n",
       "      <th>3</th>\n",
       "      <td>2013</td>\n",
       "      <td>4</td>\n",
       "      <td>19</td>\n",
       "      <td>5</td>\n",
       "      <td>DL</td>\n",
       "      <td>11433</td>\n",
       "      <td>12953</td>\n",
       "      <td>725</td>\n",
       "      <td>-3.0</td>\n",
       "      <td>0.0</td>\n",
       "      <td>...</td>\n",
       "      <td>0.0</td>\n",
       "      <td>0.0</td>\n",
       "      <td>11433</td>\n",
       "      <td>Detroit</td>\n",
       "      <td>MI</td>\n",
       "      <td>Detroit Metro Wayne County</td>\n",
       "      <td>12953</td>\n",
       "      <td>New York</td>\n",
       "      <td>NY</td>\n",
       "      <td>LaGuardia</td>\n",
       "    </tr>\n",
       "    <tr>\n",
       "      <th>4</th>\n",
       "      <td>2013</td>\n",
       "      <td>4</td>\n",
       "      <td>20</td>\n",
       "      <td>6</td>\n",
       "      <td>DL</td>\n",
       "      <td>11433</td>\n",
       "      <td>13487</td>\n",
       "      <td>725</td>\n",
       "      <td>-3.0</td>\n",
       "      <td>0.0</td>\n",
       "      <td>...</td>\n",
       "      <td>0.0</td>\n",
       "      <td>0.0</td>\n",
       "      <td>11433</td>\n",
       "      <td>Detroit</td>\n",
       "      <td>MI</td>\n",
       "      <td>Detroit Metro Wayne County</td>\n",
       "      <td>13487</td>\n",
       "      <td>Minneapolis</td>\n",
       "      <td>MN</td>\n",
       "      <td>Minneapolis-St Paul International</td>\n",
       "    </tr>\n",
       "    <tr>\n",
       "      <th>...</th>\n",
       "      <td>...</td>\n",
       "      <td>...</td>\n",
       "      <td>...</td>\n",
       "      <td>...</td>\n",
       "      <td>...</td>\n",
       "      <td>...</td>\n",
       "      <td>...</td>\n",
       "      <td>...</td>\n",
       "      <td>...</td>\n",
       "      <td>...</td>\n",
       "      <td>...</td>\n",
       "      <td>...</td>\n",
       "      <td>...</td>\n",
       "      <td>...</td>\n",
       "      <td>...</td>\n",
       "      <td>...</td>\n",
       "      <td>...</td>\n",
       "      <td>...</td>\n",
       "      <td>...</td>\n",
       "      <td>...</td>\n",
       "      <td>...</td>\n",
       "    </tr>\n",
       "    <tr>\n",
       "      <th>2719413</th>\n",
       "      <td>2013</td>\n",
       "      <td>10</td>\n",
       "      <td>27</td>\n",
       "      <td>7</td>\n",
       "      <td>AS</td>\n",
       "      <td>13891</td>\n",
       "      <td>14747</td>\n",
       "      <td>1035</td>\n",
       "      <td>-12.0</td>\n",
       "      <td>0.0</td>\n",
       "      <td>...</td>\n",
       "      <td>0.0</td>\n",
       "      <td>0.0</td>\n",
       "      <td>13891</td>\n",
       "      <td>Ontario</td>\n",
       "      <td>CA</td>\n",
       "      <td>Ontario International</td>\n",
       "      <td>14747</td>\n",
       "      <td>Seattle</td>\n",
       "      <td>WA</td>\n",
       "      <td>Seattle/Tacoma International</td>\n",
       "    </tr>\n",
       "    <tr>\n",
       "      <th>2719414</th>\n",
       "      <td>2013</td>\n",
       "      <td>10</td>\n",
       "      <td>27</td>\n",
       "      <td>7</td>\n",
       "      <td>AS</td>\n",
       "      <td>13891</td>\n",
       "      <td>14747</td>\n",
       "      <td>615</td>\n",
       "      <td>-7.0</td>\n",
       "      <td>0.0</td>\n",
       "      <td>...</td>\n",
       "      <td>0.0</td>\n",
       "      <td>0.0</td>\n",
       "      <td>13891</td>\n",
       "      <td>Ontario</td>\n",
       "      <td>CA</td>\n",
       "      <td>Ontario International</td>\n",
       "      <td>14747</td>\n",
       "      <td>Seattle</td>\n",
       "      <td>WA</td>\n",
       "      <td>Seattle/Tacoma International</td>\n",
       "    </tr>\n",
       "    <tr>\n",
       "      <th>2719415</th>\n",
       "      <td>2013</td>\n",
       "      <td>10</td>\n",
       "      <td>31</td>\n",
       "      <td>4</td>\n",
       "      <td>AS</td>\n",
       "      <td>13891</td>\n",
       "      <td>14747</td>\n",
       "      <td>1740</td>\n",
       "      <td>-10.0</td>\n",
       "      <td>0.0</td>\n",
       "      <td>...</td>\n",
       "      <td>0.0</td>\n",
       "      <td>0.0</td>\n",
       "      <td>13891</td>\n",
       "      <td>Ontario</td>\n",
       "      <td>CA</td>\n",
       "      <td>Ontario International</td>\n",
       "      <td>14747</td>\n",
       "      <td>Seattle</td>\n",
       "      <td>WA</td>\n",
       "      <td>Seattle/Tacoma International</td>\n",
       "    </tr>\n",
       "    <tr>\n",
       "      <th>2719416</th>\n",
       "      <td>2013</td>\n",
       "      <td>10</td>\n",
       "      <td>31</td>\n",
       "      <td>4</td>\n",
       "      <td>AS</td>\n",
       "      <td>13891</td>\n",
       "      <td>14747</td>\n",
       "      <td>1035</td>\n",
       "      <td>-10.0</td>\n",
       "      <td>0.0</td>\n",
       "      <td>...</td>\n",
       "      <td>0.0</td>\n",
       "      <td>0.0</td>\n",
       "      <td>13891</td>\n",
       "      <td>Ontario</td>\n",
       "      <td>CA</td>\n",
       "      <td>Ontario International</td>\n",
       "      <td>14747</td>\n",
       "      <td>Seattle</td>\n",
       "      <td>WA</td>\n",
       "      <td>Seattle/Tacoma International</td>\n",
       "    </tr>\n",
       "    <tr>\n",
       "      <th>2719417</th>\n",
       "      <td>2013</td>\n",
       "      <td>10</td>\n",
       "      <td>31</td>\n",
       "      <td>4</td>\n",
       "      <td>AS</td>\n",
       "      <td>13891</td>\n",
       "      <td>14747</td>\n",
       "      <td>615</td>\n",
       "      <td>-8.0</td>\n",
       "      <td>0.0</td>\n",
       "      <td>...</td>\n",
       "      <td>0.0</td>\n",
       "      <td>0.0</td>\n",
       "      <td>13891</td>\n",
       "      <td>Ontario</td>\n",
       "      <td>CA</td>\n",
       "      <td>Ontario International</td>\n",
       "      <td>14747</td>\n",
       "      <td>Seattle</td>\n",
       "      <td>WA</td>\n",
       "      <td>Seattle/Tacoma International</td>\n",
       "    </tr>\n",
       "  </tbody>\n",
       "</table>\n",
       "<p>2719397 rows × 22 columns</p>\n",
       "</div>"
      ],
      "text/plain": [
       "         Year  Month  DayofMonth  DayOfWeek Carrier  OriginAirportID  \\\n",
       "0        2013      4          19          5      DL            11433   \n",
       "1        2013      4          19          5      DL            11433   \n",
       "2        2013      4          19          5      DL            11433   \n",
       "3        2013      4          19          5      DL            11433   \n",
       "4        2013      4          20          6      DL            11433   \n",
       "...       ...    ...         ...        ...     ...              ...   \n",
       "2719413  2013     10          27          7      AS            13891   \n",
       "2719414  2013     10          27          7      AS            13891   \n",
       "2719415  2013     10          31          4      AS            13891   \n",
       "2719416  2013     10          31          4      AS            13891   \n",
       "2719417  2013     10          31          4      AS            13891   \n",
       "\n",
       "         DestAirportID  CRSDepTime  DepDelay  DepDel15  ...  ArrDel15  \\\n",
       "0                13303         837      -3.0       0.0  ...       0.0   \n",
       "1                11298         835      22.0       1.0  ...       1.0   \n",
       "2                12892        1935      -2.0       0.0  ...       0.0   \n",
       "3                12953         725      -3.0       0.0  ...       0.0   \n",
       "4                13487         725      -3.0       0.0  ...       0.0   \n",
       "...                ...         ...       ...       ...  ...       ...   \n",
       "2719413          14747        1035     -12.0       0.0  ...       0.0   \n",
       "2719414          14747         615      -7.0       0.0  ...       0.0   \n",
       "2719415          14747        1740     -10.0       0.0  ...       0.0   \n",
       "2719416          14747        1035     -10.0       0.0  ...       0.0   \n",
       "2719417          14747         615      -8.0       0.0  ...       0.0   \n",
       "\n",
       "         Cancelled  airport_id_x   city_x  state_x  \\\n",
       "0              0.0         11433  Detroit       MI   \n",
       "1              0.0         11433  Detroit       MI   \n",
       "2              0.0         11433  Detroit       MI   \n",
       "3              0.0         11433  Detroit       MI   \n",
       "4              0.0         11433  Detroit       MI   \n",
       "...            ...           ...      ...      ...   \n",
       "2719413        0.0         13891  Ontario       CA   \n",
       "2719414        0.0         13891  Ontario       CA   \n",
       "2719415        0.0         13891  Ontario       CA   \n",
       "2719416        0.0         13891  Ontario       CA   \n",
       "2719417        0.0         13891  Ontario       CA   \n",
       "\n",
       "                              name_x airport_id_y             city_y  state_y  \\\n",
       "0         Detroit Metro Wayne County        13303              Miami       FL   \n",
       "1         Detroit Metro Wayne County        11298  Dallas/Fort Worth       TX   \n",
       "2         Detroit Metro Wayne County        12892        Los Angeles       CA   \n",
       "3         Detroit Metro Wayne County        12953           New York       NY   \n",
       "4         Detroit Metro Wayne County        13487        Minneapolis       MN   \n",
       "...                              ...          ...                ...      ...   \n",
       "2719413        Ontario International        14747            Seattle       WA   \n",
       "2719414        Ontario International        14747            Seattle       WA   \n",
       "2719415        Ontario International        14747            Seattle       WA   \n",
       "2719416        Ontario International        14747            Seattle       WA   \n",
       "2719417        Ontario International        14747            Seattle       WA   \n",
       "\n",
       "                                     name_y  \n",
       "0                       Miami International  \n",
       "1           Dallas/Fort Worth International  \n",
       "2                 Los Angeles International  \n",
       "3                                 LaGuardia  \n",
       "4         Minneapolis-St Paul International  \n",
       "...                                     ...  \n",
       "2719413        Seattle/Tacoma International  \n",
       "2719414        Seattle/Tacoma International  \n",
       "2719415        Seattle/Tacoma International  \n",
       "2719416        Seattle/Tacoma International  \n",
       "2719417        Seattle/Tacoma International  \n",
       "\n",
       "[2719397 rows x 22 columns]"
      ]
     },
     "execution_count": 5,
     "metadata": {},
     "output_type": "execute_result"
    }
   ],
   "source": [
    "df1.info()\n",
    "df1"
   ]
  },
  {
   "cell_type": "code",
   "execution_count": 6,
   "metadata": {
    "scrolled": true
   },
   "outputs": [
    {
     "data": {
      "text/html": [
       "<div>\n",
       "<style scoped>\n",
       "    .dataframe tbody tr th:only-of-type {\n",
       "        vertical-align: middle;\n",
       "    }\n",
       "\n",
       "    .dataframe tbody tr th {\n",
       "        vertical-align: top;\n",
       "    }\n",
       "\n",
       "    .dataframe thead th {\n",
       "        text-align: right;\n",
       "    }\n",
       "</style>\n",
       "<table border=\"1\" class=\"dataframe\">\n",
       "  <thead>\n",
       "    <tr style=\"text-align: right;\">\n",
       "      <th></th>\n",
       "      <th>Year</th>\n",
       "      <th>Month</th>\n",
       "      <th>DayofMonth</th>\n",
       "      <th>DayOfWeek</th>\n",
       "      <th>OriginAirportID</th>\n",
       "      <th>DestAirportID</th>\n",
       "      <th>CRSDepTime</th>\n",
       "      <th>DepDelay</th>\n",
       "      <th>DepDel15</th>\n",
       "      <th>CRSArrTime</th>\n",
       "      <th>ArrDelay</th>\n",
       "      <th>ArrDel15</th>\n",
       "      <th>Cancelled</th>\n",
       "      <th>airport_id_x</th>\n",
       "      <th>airport_id_y</th>\n",
       "    </tr>\n",
       "  </thead>\n",
       "  <tbody>\n",
       "    <tr>\n",
       "      <th>count</th>\n",
       "      <td>2719397.0</td>\n",
       "      <td>2.719397e+06</td>\n",
       "      <td>2.719397e+06</td>\n",
       "      <td>2.719397e+06</td>\n",
       "      <td>2.719397e+06</td>\n",
       "      <td>2.719397e+06</td>\n",
       "      <td>2.719397e+06</td>\n",
       "      <td>2.719397e+06</td>\n",
       "      <td>2.719397e+06</td>\n",
       "      <td>2.719397e+06</td>\n",
       "      <td>2.719397e+06</td>\n",
       "      <td>2.719397e+06</td>\n",
       "      <td>2.719397e+06</td>\n",
       "      <td>2.719397e+06</td>\n",
       "      <td>2.719397e+06</td>\n",
       "    </tr>\n",
       "    <tr>\n",
       "      <th>mean</th>\n",
       "      <td>2013.0</td>\n",
       "      <td>6.979968e+00</td>\n",
       "      <td>1.579747e+01</td>\n",
       "      <td>3.898389e+00</td>\n",
       "      <td>1.274226e+04</td>\n",
       "      <td>1.274246e+04</td>\n",
       "      <td>1.326647e+03</td>\n",
       "      <td>1.043062e+01</td>\n",
       "      <td>2.003014e-01</td>\n",
       "      <td>1.505272e+03</td>\n",
       "      <td>6.566923e+00</td>\n",
       "      <td>2.166318e-01</td>\n",
       "      <td>1.067516e-02</td>\n",
       "      <td>1.274226e+04</td>\n",
       "      <td>1.274246e+04</td>\n",
       "    </tr>\n",
       "    <tr>\n",
       "      <th>std</th>\n",
       "      <td>0.0</td>\n",
       "      <td>1.984330e+00</td>\n",
       "      <td>8.799863e+00</td>\n",
       "      <td>1.985988e+00</td>\n",
       "      <td>1.501976e+03</td>\n",
       "      <td>1.501968e+03</td>\n",
       "      <td>4.713755e+02</td>\n",
       "      <td>3.593247e+01</td>\n",
       "      <td>4.002259e-01</td>\n",
       "      <td>4.939662e+02</td>\n",
       "      <td>3.844812e+01</td>\n",
       "      <td>4.119497e-01</td>\n",
       "      <td>1.027677e-01</td>\n",
       "      <td>1.501976e+03</td>\n",
       "      <td>1.501968e+03</td>\n",
       "    </tr>\n",
       "    <tr>\n",
       "      <th>min</th>\n",
       "      <td>2013.0</td>\n",
       "      <td>4.000000e+00</td>\n",
       "      <td>1.000000e+00</td>\n",
       "      <td>1.000000e+00</td>\n",
       "      <td>1.014000e+04</td>\n",
       "      <td>1.014000e+04</td>\n",
       "      <td>1.000000e+00</td>\n",
       "      <td>-6.300000e+01</td>\n",
       "      <td>0.000000e+00</td>\n",
       "      <td>1.000000e+00</td>\n",
       "      <td>-9.400000e+01</td>\n",
       "      <td>0.000000e+00</td>\n",
       "      <td>0.000000e+00</td>\n",
       "      <td>1.014000e+04</td>\n",
       "      <td>1.014000e+04</td>\n",
       "    </tr>\n",
       "    <tr>\n",
       "      <th>25%</th>\n",
       "      <td>2013.0</td>\n",
       "      <td>5.000000e+00</td>\n",
       "      <td>8.000000e+00</td>\n",
       "      <td>2.000000e+00</td>\n",
       "      <td>1.129200e+04</td>\n",
       "      <td>1.129200e+04</td>\n",
       "      <td>9.200000e+02</td>\n",
       "      <td>-4.000000e+00</td>\n",
       "      <td>0.000000e+00</td>\n",
       "      <td>1.120000e+03</td>\n",
       "      <td>-1.100000e+01</td>\n",
       "      <td>0.000000e+00</td>\n",
       "      <td>0.000000e+00</td>\n",
       "      <td>1.129200e+04</td>\n",
       "      <td>1.129200e+04</td>\n",
       "    </tr>\n",
       "    <tr>\n",
       "      <th>50%</th>\n",
       "      <td>2013.0</td>\n",
       "      <td>7.000000e+00</td>\n",
       "      <td>1.600000e+01</td>\n",
       "      <td>4.000000e+00</td>\n",
       "      <td>1.289200e+04</td>\n",
       "      <td>1.289200e+04</td>\n",
       "      <td>1.320000e+03</td>\n",
       "      <td>-1.000000e+00</td>\n",
       "      <td>0.000000e+00</td>\n",
       "      <td>1.528000e+03</td>\n",
       "      <td>-3.000000e+00</td>\n",
       "      <td>0.000000e+00</td>\n",
       "      <td>0.000000e+00</td>\n",
       "      <td>1.289200e+04</td>\n",
       "      <td>1.289200e+04</td>\n",
       "    </tr>\n",
       "    <tr>\n",
       "      <th>75%</th>\n",
       "      <td>2013.0</td>\n",
       "      <td>9.000000e+00</td>\n",
       "      <td>2.300000e+01</td>\n",
       "      <td>6.000000e+00</td>\n",
       "      <td>1.405700e+04</td>\n",
       "      <td>1.405700e+04</td>\n",
       "      <td>1.725000e+03</td>\n",
       "      <td>9.000000e+00</td>\n",
       "      <td>0.000000e+00</td>\n",
       "      <td>1.918000e+03</td>\n",
       "      <td>1.000000e+01</td>\n",
       "      <td>0.000000e+00</td>\n",
       "      <td>0.000000e+00</td>\n",
       "      <td>1.405700e+04</td>\n",
       "      <td>1.405700e+04</td>\n",
       "    </tr>\n",
       "    <tr>\n",
       "      <th>max</th>\n",
       "      <td>2013.0</td>\n",
       "      <td>1.000000e+01</td>\n",
       "      <td>3.100000e+01</td>\n",
       "      <td>7.000000e+00</td>\n",
       "      <td>1.537600e+04</td>\n",
       "      <td>1.537600e+04</td>\n",
       "      <td>2.359000e+03</td>\n",
       "      <td>1.863000e+03</td>\n",
       "      <td>1.000000e+00</td>\n",
       "      <td>2.359000e+03</td>\n",
       "      <td>1.845000e+03</td>\n",
       "      <td>1.000000e+00</td>\n",
       "      <td>1.000000e+00</td>\n",
       "      <td>1.537600e+04</td>\n",
       "      <td>1.537600e+04</td>\n",
       "    </tr>\n",
       "  </tbody>\n",
       "</table>\n",
       "</div>"
      ],
      "text/plain": [
       "            Year         Month    DayofMonth     DayOfWeek  OriginAirportID  \\\n",
       "count  2719397.0  2.719397e+06  2.719397e+06  2.719397e+06     2.719397e+06   \n",
       "mean      2013.0  6.979968e+00  1.579747e+01  3.898389e+00     1.274226e+04   \n",
       "std          0.0  1.984330e+00  8.799863e+00  1.985988e+00     1.501976e+03   \n",
       "min       2013.0  4.000000e+00  1.000000e+00  1.000000e+00     1.014000e+04   \n",
       "25%       2013.0  5.000000e+00  8.000000e+00  2.000000e+00     1.129200e+04   \n",
       "50%       2013.0  7.000000e+00  1.600000e+01  4.000000e+00     1.289200e+04   \n",
       "75%       2013.0  9.000000e+00  2.300000e+01  6.000000e+00     1.405700e+04   \n",
       "max       2013.0  1.000000e+01  3.100000e+01  7.000000e+00     1.537600e+04   \n",
       "\n",
       "       DestAirportID    CRSDepTime      DepDelay      DepDel15    CRSArrTime  \\\n",
       "count   2.719397e+06  2.719397e+06  2.719397e+06  2.719397e+06  2.719397e+06   \n",
       "mean    1.274246e+04  1.326647e+03  1.043062e+01  2.003014e-01  1.505272e+03   \n",
       "std     1.501968e+03  4.713755e+02  3.593247e+01  4.002259e-01  4.939662e+02   \n",
       "min     1.014000e+04  1.000000e+00 -6.300000e+01  0.000000e+00  1.000000e+00   \n",
       "25%     1.129200e+04  9.200000e+02 -4.000000e+00  0.000000e+00  1.120000e+03   \n",
       "50%     1.289200e+04  1.320000e+03 -1.000000e+00  0.000000e+00  1.528000e+03   \n",
       "75%     1.405700e+04  1.725000e+03  9.000000e+00  0.000000e+00  1.918000e+03   \n",
       "max     1.537600e+04  2.359000e+03  1.863000e+03  1.000000e+00  2.359000e+03   \n",
       "\n",
       "           ArrDelay      ArrDel15     Cancelled  airport_id_x  airport_id_y  \n",
       "count  2.719397e+06  2.719397e+06  2.719397e+06  2.719397e+06  2.719397e+06  \n",
       "mean   6.566923e+00  2.166318e-01  1.067516e-02  1.274226e+04  1.274246e+04  \n",
       "std    3.844812e+01  4.119497e-01  1.027677e-01  1.501976e+03  1.501968e+03  \n",
       "min   -9.400000e+01  0.000000e+00  0.000000e+00  1.014000e+04  1.014000e+04  \n",
       "25%   -1.100000e+01  0.000000e+00  0.000000e+00  1.129200e+04  1.129200e+04  \n",
       "50%   -3.000000e+00  0.000000e+00  0.000000e+00  1.289200e+04  1.289200e+04  \n",
       "75%    1.000000e+01  0.000000e+00  0.000000e+00  1.405700e+04  1.405700e+04  \n",
       "max    1.845000e+03  1.000000e+00  1.000000e+00  1.537600e+04  1.537600e+04  "
      ]
     },
     "execution_count": 6,
     "metadata": {},
     "output_type": "execute_result"
    }
   ],
   "source": [
    "df1.describe()"
   ]
  },
  {
   "cell_type": "code",
   "execution_count": 7,
   "metadata": {},
   "outputs": [
    {
     "data": {
      "text/plain": [
       "count    2.719397e+06\n",
       "mean     6.566923e+00\n",
       "std      3.844812e+01\n",
       "min     -9.400000e+01\n",
       "25%     -1.100000e+01\n",
       "50%     -3.000000e+00\n",
       "75%      1.000000e+01\n",
       "max      1.845000e+03\n",
       "Name: ArrDelay, dtype: float64"
      ]
     },
     "execution_count": 7,
     "metadata": {},
     "output_type": "execute_result"
    }
   ],
   "source": [
    "df1['ArrDelay'].describe()"
   ]
  },
  {
   "cell_type": "code",
   "execution_count": 8,
   "metadata": {
    "scrolled": true
   },
   "outputs": [
    {
     "data": {
      "text/html": [
       "<div>\n",
       "<style scoped>\n",
       "    .dataframe tbody tr th:only-of-type {\n",
       "        vertical-align: middle;\n",
       "    }\n",
       "\n",
       "    .dataframe tbody tr th {\n",
       "        vertical-align: top;\n",
       "    }\n",
       "\n",
       "    .dataframe thead th {\n",
       "        text-align: right;\n",
       "    }\n",
       "</style>\n",
       "<table border=\"1\" class=\"dataframe\">\n",
       "  <thead>\n",
       "    <tr style=\"text-align: right;\">\n",
       "      <th></th>\n",
       "      <th>Year</th>\n",
       "      <th>Month</th>\n",
       "      <th>DayofMonth</th>\n",
       "      <th>DayOfWeek</th>\n",
       "      <th>Carrier</th>\n",
       "      <th>OriginAirportID</th>\n",
       "      <th>DestAirportID</th>\n",
       "      <th>CRSDepTime</th>\n",
       "      <th>DepDelay</th>\n",
       "      <th>DepDel15</th>\n",
       "      <th>...</th>\n",
       "      <th>ArrDel15</th>\n",
       "      <th>Cancelled</th>\n",
       "      <th>airport_id_x</th>\n",
       "      <th>city_x</th>\n",
       "      <th>state_x</th>\n",
       "      <th>name_x</th>\n",
       "      <th>airport_id_y</th>\n",
       "      <th>city_y</th>\n",
       "      <th>state_y</th>\n",
       "      <th>name_y</th>\n",
       "    </tr>\n",
       "  </thead>\n",
       "  <tbody>\n",
       "    <tr>\n",
       "      <th>0</th>\n",
       "      <td>2013</td>\n",
       "      <td>4</td>\n",
       "      <td>19</td>\n",
       "      <td>5</td>\n",
       "      <td>DL</td>\n",
       "      <td>11433</td>\n",
       "      <td>13303</td>\n",
       "      <td>837</td>\n",
       "      <td>-3.0</td>\n",
       "      <td>0.0</td>\n",
       "      <td>...</td>\n",
       "      <td>0.0</td>\n",
       "      <td>0.0</td>\n",
       "      <td>11433</td>\n",
       "      <td>Detroit</td>\n",
       "      <td>MI</td>\n",
       "      <td>Detroit Metro Wayne County</td>\n",
       "      <td>13303</td>\n",
       "      <td>Miami</td>\n",
       "      <td>FL</td>\n",
       "      <td>Miami International</td>\n",
       "    </tr>\n",
       "    <tr>\n",
       "      <th>1</th>\n",
       "      <td>2013</td>\n",
       "      <td>4</td>\n",
       "      <td>19</td>\n",
       "      <td>5</td>\n",
       "      <td>DL</td>\n",
       "      <td>11433</td>\n",
       "      <td>11298</td>\n",
       "      <td>835</td>\n",
       "      <td>22.0</td>\n",
       "      <td>1.0</td>\n",
       "      <td>...</td>\n",
       "      <td>1.0</td>\n",
       "      <td>0.0</td>\n",
       "      <td>11433</td>\n",
       "      <td>Detroit</td>\n",
       "      <td>MI</td>\n",
       "      <td>Detroit Metro Wayne County</td>\n",
       "      <td>11298</td>\n",
       "      <td>Dallas/Fort Worth</td>\n",
       "      <td>TX</td>\n",
       "      <td>Dallas/Fort Worth International</td>\n",
       "    </tr>\n",
       "    <tr>\n",
       "      <th>2</th>\n",
       "      <td>2013</td>\n",
       "      <td>4</td>\n",
       "      <td>19</td>\n",
       "      <td>5</td>\n",
       "      <td>DL</td>\n",
       "      <td>11433</td>\n",
       "      <td>12892</td>\n",
       "      <td>1935</td>\n",
       "      <td>-2.0</td>\n",
       "      <td>0.0</td>\n",
       "      <td>...</td>\n",
       "      <td>0.0</td>\n",
       "      <td>0.0</td>\n",
       "      <td>11433</td>\n",
       "      <td>Detroit</td>\n",
       "      <td>MI</td>\n",
       "      <td>Detroit Metro Wayne County</td>\n",
       "      <td>12892</td>\n",
       "      <td>Los Angeles</td>\n",
       "      <td>CA</td>\n",
       "      <td>Los Angeles International</td>\n",
       "    </tr>\n",
       "    <tr>\n",
       "      <th>3</th>\n",
       "      <td>2013</td>\n",
       "      <td>4</td>\n",
       "      <td>19</td>\n",
       "      <td>5</td>\n",
       "      <td>DL</td>\n",
       "      <td>11433</td>\n",
       "      <td>12953</td>\n",
       "      <td>725</td>\n",
       "      <td>-3.0</td>\n",
       "      <td>0.0</td>\n",
       "      <td>...</td>\n",
       "      <td>0.0</td>\n",
       "      <td>0.0</td>\n",
       "      <td>11433</td>\n",
       "      <td>Detroit</td>\n",
       "      <td>MI</td>\n",
       "      <td>Detroit Metro Wayne County</td>\n",
       "      <td>12953</td>\n",
       "      <td>New York</td>\n",
       "      <td>NY</td>\n",
       "      <td>LaGuardia</td>\n",
       "    </tr>\n",
       "    <tr>\n",
       "      <th>4</th>\n",
       "      <td>2013</td>\n",
       "      <td>4</td>\n",
       "      <td>20</td>\n",
       "      <td>6</td>\n",
       "      <td>DL</td>\n",
       "      <td>11433</td>\n",
       "      <td>13487</td>\n",
       "      <td>725</td>\n",
       "      <td>-3.0</td>\n",
       "      <td>0.0</td>\n",
       "      <td>...</td>\n",
       "      <td>0.0</td>\n",
       "      <td>0.0</td>\n",
       "      <td>11433</td>\n",
       "      <td>Detroit</td>\n",
       "      <td>MI</td>\n",
       "      <td>Detroit Metro Wayne County</td>\n",
       "      <td>13487</td>\n",
       "      <td>Minneapolis</td>\n",
       "      <td>MN</td>\n",
       "      <td>Minneapolis-St Paul International</td>\n",
       "    </tr>\n",
       "    <tr>\n",
       "      <th>...</th>\n",
       "      <td>...</td>\n",
       "      <td>...</td>\n",
       "      <td>...</td>\n",
       "      <td>...</td>\n",
       "      <td>...</td>\n",
       "      <td>...</td>\n",
       "      <td>...</td>\n",
       "      <td>...</td>\n",
       "      <td>...</td>\n",
       "      <td>...</td>\n",
       "      <td>...</td>\n",
       "      <td>...</td>\n",
       "      <td>...</td>\n",
       "      <td>...</td>\n",
       "      <td>...</td>\n",
       "      <td>...</td>\n",
       "      <td>...</td>\n",
       "      <td>...</td>\n",
       "      <td>...</td>\n",
       "      <td>...</td>\n",
       "      <td>...</td>\n",
       "    </tr>\n",
       "    <tr>\n",
       "      <th>2719413</th>\n",
       "      <td>2013</td>\n",
       "      <td>10</td>\n",
       "      <td>27</td>\n",
       "      <td>7</td>\n",
       "      <td>AS</td>\n",
       "      <td>13891</td>\n",
       "      <td>14747</td>\n",
       "      <td>1035</td>\n",
       "      <td>-12.0</td>\n",
       "      <td>0.0</td>\n",
       "      <td>...</td>\n",
       "      <td>0.0</td>\n",
       "      <td>0.0</td>\n",
       "      <td>13891</td>\n",
       "      <td>Ontario</td>\n",
       "      <td>CA</td>\n",
       "      <td>Ontario International</td>\n",
       "      <td>14747</td>\n",
       "      <td>Seattle</td>\n",
       "      <td>WA</td>\n",
       "      <td>Seattle/Tacoma International</td>\n",
       "    </tr>\n",
       "    <tr>\n",
       "      <th>2719414</th>\n",
       "      <td>2013</td>\n",
       "      <td>10</td>\n",
       "      <td>27</td>\n",
       "      <td>7</td>\n",
       "      <td>AS</td>\n",
       "      <td>13891</td>\n",
       "      <td>14747</td>\n",
       "      <td>615</td>\n",
       "      <td>-7.0</td>\n",
       "      <td>0.0</td>\n",
       "      <td>...</td>\n",
       "      <td>0.0</td>\n",
       "      <td>0.0</td>\n",
       "      <td>13891</td>\n",
       "      <td>Ontario</td>\n",
       "      <td>CA</td>\n",
       "      <td>Ontario International</td>\n",
       "      <td>14747</td>\n",
       "      <td>Seattle</td>\n",
       "      <td>WA</td>\n",
       "      <td>Seattle/Tacoma International</td>\n",
       "    </tr>\n",
       "    <tr>\n",
       "      <th>2719415</th>\n",
       "      <td>2013</td>\n",
       "      <td>10</td>\n",
       "      <td>31</td>\n",
       "      <td>4</td>\n",
       "      <td>AS</td>\n",
       "      <td>13891</td>\n",
       "      <td>14747</td>\n",
       "      <td>1740</td>\n",
       "      <td>-10.0</td>\n",
       "      <td>0.0</td>\n",
       "      <td>...</td>\n",
       "      <td>0.0</td>\n",
       "      <td>0.0</td>\n",
       "      <td>13891</td>\n",
       "      <td>Ontario</td>\n",
       "      <td>CA</td>\n",
       "      <td>Ontario International</td>\n",
       "      <td>14747</td>\n",
       "      <td>Seattle</td>\n",
       "      <td>WA</td>\n",
       "      <td>Seattle/Tacoma International</td>\n",
       "    </tr>\n",
       "    <tr>\n",
       "      <th>2719416</th>\n",
       "      <td>2013</td>\n",
       "      <td>10</td>\n",
       "      <td>31</td>\n",
       "      <td>4</td>\n",
       "      <td>AS</td>\n",
       "      <td>13891</td>\n",
       "      <td>14747</td>\n",
       "      <td>1035</td>\n",
       "      <td>-10.0</td>\n",
       "      <td>0.0</td>\n",
       "      <td>...</td>\n",
       "      <td>0.0</td>\n",
       "      <td>0.0</td>\n",
       "      <td>13891</td>\n",
       "      <td>Ontario</td>\n",
       "      <td>CA</td>\n",
       "      <td>Ontario International</td>\n",
       "      <td>14747</td>\n",
       "      <td>Seattle</td>\n",
       "      <td>WA</td>\n",
       "      <td>Seattle/Tacoma International</td>\n",
       "    </tr>\n",
       "    <tr>\n",
       "      <th>2719417</th>\n",
       "      <td>2013</td>\n",
       "      <td>10</td>\n",
       "      <td>31</td>\n",
       "      <td>4</td>\n",
       "      <td>AS</td>\n",
       "      <td>13891</td>\n",
       "      <td>14747</td>\n",
       "      <td>615</td>\n",
       "      <td>-8.0</td>\n",
       "      <td>0.0</td>\n",
       "      <td>...</td>\n",
       "      <td>0.0</td>\n",
       "      <td>0.0</td>\n",
       "      <td>13891</td>\n",
       "      <td>Ontario</td>\n",
       "      <td>CA</td>\n",
       "      <td>Ontario International</td>\n",
       "      <td>14747</td>\n",
       "      <td>Seattle</td>\n",
       "      <td>WA</td>\n",
       "      <td>Seattle/Tacoma International</td>\n",
       "    </tr>\n",
       "  </tbody>\n",
       "</table>\n",
       "<p>2719397 rows × 22 columns</p>\n",
       "</div>"
      ],
      "text/plain": [
       "         Year  Month  DayofMonth  DayOfWeek Carrier  OriginAirportID  \\\n",
       "0        2013      4          19          5      DL            11433   \n",
       "1        2013      4          19          5      DL            11433   \n",
       "2        2013      4          19          5      DL            11433   \n",
       "3        2013      4          19          5      DL            11433   \n",
       "4        2013      4          20          6      DL            11433   \n",
       "...       ...    ...         ...        ...     ...              ...   \n",
       "2719413  2013     10          27          7      AS            13891   \n",
       "2719414  2013     10          27          7      AS            13891   \n",
       "2719415  2013     10          31          4      AS            13891   \n",
       "2719416  2013     10          31          4      AS            13891   \n",
       "2719417  2013     10          31          4      AS            13891   \n",
       "\n",
       "         DestAirportID  CRSDepTime  DepDelay  DepDel15  ...  ArrDel15  \\\n",
       "0                13303         837      -3.0       0.0  ...       0.0   \n",
       "1                11298         835      22.0       1.0  ...       1.0   \n",
       "2                12892        1935      -2.0       0.0  ...       0.0   \n",
       "3                12953         725      -3.0       0.0  ...       0.0   \n",
       "4                13487         725      -3.0       0.0  ...       0.0   \n",
       "...                ...         ...       ...       ...  ...       ...   \n",
       "2719413          14747        1035     -12.0       0.0  ...       0.0   \n",
       "2719414          14747         615      -7.0       0.0  ...       0.0   \n",
       "2719415          14747        1740     -10.0       0.0  ...       0.0   \n",
       "2719416          14747        1035     -10.0       0.0  ...       0.0   \n",
       "2719417          14747         615      -8.0       0.0  ...       0.0   \n",
       "\n",
       "         Cancelled  airport_id_x   city_x  state_x  \\\n",
       "0              0.0         11433  Detroit       MI   \n",
       "1              0.0         11433  Detroit       MI   \n",
       "2              0.0         11433  Detroit       MI   \n",
       "3              0.0         11433  Detroit       MI   \n",
       "4              0.0         11433  Detroit       MI   \n",
       "...            ...           ...      ...      ...   \n",
       "2719413        0.0         13891  Ontario       CA   \n",
       "2719414        0.0         13891  Ontario       CA   \n",
       "2719415        0.0         13891  Ontario       CA   \n",
       "2719416        0.0         13891  Ontario       CA   \n",
       "2719417        0.0         13891  Ontario       CA   \n",
       "\n",
       "                              name_x airport_id_y             city_y  state_y  \\\n",
       "0         Detroit Metro Wayne County        13303              Miami       FL   \n",
       "1         Detroit Metro Wayne County        11298  Dallas/Fort Worth       TX   \n",
       "2         Detroit Metro Wayne County        12892        Los Angeles       CA   \n",
       "3         Detroit Metro Wayne County        12953           New York       NY   \n",
       "4         Detroit Metro Wayne County        13487        Minneapolis       MN   \n",
       "...                              ...          ...                ...      ...   \n",
       "2719413        Ontario International        14747            Seattle       WA   \n",
       "2719414        Ontario International        14747            Seattle       WA   \n",
       "2719415        Ontario International        14747            Seattle       WA   \n",
       "2719416        Ontario International        14747            Seattle       WA   \n",
       "2719417        Ontario International        14747            Seattle       WA   \n",
       "\n",
       "                                     name_y  \n",
       "0                       Miami International  \n",
       "1           Dallas/Fort Worth International  \n",
       "2                 Los Angeles International  \n",
       "3                                 LaGuardia  \n",
       "4         Minneapolis-St Paul International  \n",
       "...                                     ...  \n",
       "2719413        Seattle/Tacoma International  \n",
       "2719414        Seattle/Tacoma International  \n",
       "2719415        Seattle/Tacoma International  \n",
       "2719416        Seattle/Tacoma International  \n",
       "2719417        Seattle/Tacoma International  \n",
       "\n",
       "[2719397 rows x 22 columns]"
      ]
     },
     "execution_count": 8,
     "metadata": {},
     "output_type": "execute_result"
    }
   ],
   "source": [
    "df1"
   ]
  },
  {
   "cell_type": "code",
   "execution_count": 9,
   "metadata": {},
   "outputs": [
    {
     "name": "stdout",
     "output_type": "stream",
     "text": [
      "0\n",
      "0\n"
     ]
    }
   ],
   "source": [
    "import numpy as np\n",
    "cols=['CRSDepTime','DepDelay','CRSArrTime']\n",
    "x=df1.loc[:,cols]\n",
    "y=df1[['ArrDelay']]\n",
    "\n",
    "print(x.isnull().values.any().sum())\n",
    "print(y.isnull().values.any().sum())"
   ]
  },
  {
   "cell_type": "code",
   "execution_count": 10,
   "metadata": {},
   "outputs": [
    {
     "name": "stdout",
     "output_type": "stream",
     "text": [
      "0\n"
     ]
    },
    {
     "data": {
      "text/plain": [
       "array([[-1.0387627 , -0.37377392, -0.74351561],\n",
       "       [-1.0430056 ,  0.32197577, -0.95203192],\n",
       "       [ 1.29059109, -0.34594393,  1.28496349],\n",
       "       ...,\n",
       "       [ 0.87690804, -0.56858383,  1.03190971],\n",
       "       [-0.61871529, -0.56858383, -0.40543576],\n",
       "       [-1.50972494, -0.51292385, -1.31035608]])"
      ]
     },
     "execution_count": 10,
     "metadata": {},
     "output_type": "execute_result"
    }
   ],
   "source": [
    "import pandas as pd\n",
    "import numpy as np\n",
    "## Create custom function to compute Zscore \n",
    "from scipy import stats\n",
    "x=stats.zscore(x)\n",
    "#def z_score(df):\n",
    "    #df.columns = [x + \"_zscore\" for x in df.columns.tolist()]\n",
    "    #return ((df - df.mean())/df.std(ddof=0))\n",
    "## make sure you filter or select columns of interest before passing dataframe to function\n",
    "#x=z_score(x)\n",
    "\n",
    "#print(x.isnull().values.any().sum())\n",
    "print(y.isnull().values.any().sum())\n",
    "x"
   ]
  },
  {
   "cell_type": "code",
   "execution_count": null,
   "metadata": {},
   "outputs": [],
   "source": []
  },
  {
   "cell_type": "code",
   "execution_count": 11,
   "metadata": {},
   "outputs": [
    {
     "data": {
      "text/plain": [
       "array([[-1.11725641, -0.34594393, -1.31642937],\n",
       "       [ 1.75731043, -0.42943389,  1.62911663],\n",
       "       [ 0.8217503 ,  2.04743498,  0.80517352],\n",
       "       ...,\n",
       "       [ 0.82387175, -0.4016039 ,  0.67560999],\n",
       "       [ 1.22482609, -0.20679399,  1.07239832],\n",
       "       [-1.02179109, -0.20679399, -0.99252053]])"
      ]
     },
     "execution_count": 11,
     "metadata": {},
     "output_type": "execute_result"
    }
   ],
   "source": [
    "from sklearn.model_selection import train_test_split\n",
    "x_train,x_test,y_train,y_test=train_test_split(x,y,test_size=.30,random_state=0)\n",
    "x_train\n"
   ]
  },
  {
   "cell_type": "code",
   "execution_count": 12,
   "metadata": {
    "scrolled": false
   },
   "outputs": [
    {
     "name": "stdout",
     "output_type": "stream",
     "text": [
      "Mean Absolute Error: 11.125177839242783\n",
      "Mean Squared Error: 275.2744426271795\n",
      "Root Mean Squared Error: 16.59139664486325\n"
     ]
    }
   ],
   "source": [
    "from sklearn import metrics\n",
    "from sklearn.tree import DecisionTreeRegressor\n",
    "regressor = DecisionTreeRegressor(random_state=0)\n",
    "regressor.fit(x_train, y_train)\n",
    "\n",
    "y_pretest=regressor.predict(x_test)\n",
    "y_pretest\n",
    "print('Mean Absolute Error:', metrics.mean_absolute_error(y_test, y_pretest))\n",
    "print('Mean Squared Error:', metrics.mean_squared_error(y_test, y_pretest))\n",
    "print('Root Mean Squared Error:', np.sqrt(metrics.mean_squared_error(y_test, y_pretest)))"
   ]
  },
  {
   "cell_type": "raw",
   "metadata": {},
   "source": [
    "regressor._coef"
   ]
  },
  {
   "cell_type": "code",
   "execution_count": 13,
   "metadata": {
    "scrolled": true
   },
   "outputs": [
    {
     "name": "stderr",
     "output_type": "stream",
     "text": [
      "/Users/zoyasyed/opt/anaconda3/lib/python3.8/site-packages/sklearn/utils/validation.py:63: DataConversionWarning: A column-vector y was passed when a 1d array was expected. Please change the shape of y to (n_samples, ), for example using ravel().\n",
      "  return f(*args, **kwargs)\n"
     ]
    },
    {
     "name": "stdout",
     "output_type": "stream",
     "text": [
      "Number of Trees used :  100\n",
      "Predict values on test data: [-10.17093482  -6.7578391    4.00669695 ...  -8.33782637  -6.00048598\n",
      "  13.10294421]\n",
      "Mean Absolute Error: 8.980688123692266\n",
      "Mean Squared Error: 172.74999855316753\n",
      "Root Mean Squared Error: 13.143439373054814\n"
     ]
    }
   ],
   "source": [
    "from sklearn.ensemble import GradientBoostingRegressor\n",
    "from sklearn import metrics\n",
    "model = GradientBoostingRegressor()\n",
    "\n",
    "# fit the model with the training data\n",
    "model.fit(x_train,y_train)\n",
    "# number of trees used\n",
    "print('Number of Trees used : ', model.n_estimators)\n",
    "# predict the target on the train dataset\n",
    "y_pretrain = model.predict(x_train)\n",
    "y_pretest=model.predict(x_test)\n",
    "print(\"Predict values on test data:\",y_pretest)\n",
    "\n",
    "print('Mean Absolute Error:', metrics.mean_absolute_error(y_test, y_pretest))\n",
    "print('Mean Squared Error:', metrics.mean_squared_error(y_test, y_pretest))\n",
    "print('Root Mean Squared Error:', np.sqrt(metrics.mean_squared_error(y_test, y_pretest)))"
   ]
  },
  {
   "cell_type": "code",
   "execution_count": null,
   "metadata": {},
   "outputs": [],
   "source": [
    "coefficient=model._coef\n",
    "coefficient"
   ]
  },
  {
   "cell_type": "code",
   "execution_count": null,
   "metadata": {},
   "outputs": [],
   "source": []
  },
  {
   "cell_type": "code",
   "execution_count": 85,
   "metadata": {},
   "outputs": [
    {
     "data": {
      "text/html": [
       "<div>\n",
       "<style scoped>\n",
       "    .dataframe tbody tr th:only-of-type {\n",
       "        vertical-align: middle;\n",
       "    }\n",
       "\n",
       "    .dataframe tbody tr th {\n",
       "        vertical-align: top;\n",
       "    }\n",
       "\n",
       "    .dataframe thead th {\n",
       "        text-align: right;\n",
       "    }\n",
       "</style>\n",
       "<table border=\"1\" class=\"dataframe\">\n",
       "  <thead>\n",
       "    <tr style=\"text-align: right;\">\n",
       "      <th></th>\n",
       "      <th>Year</th>\n",
       "      <th>Month</th>\n",
       "      <th>DayofMonth</th>\n",
       "      <th>DayOfWeek</th>\n",
       "      <th>Carrier</th>\n",
       "      <th>OriginAirportID</th>\n",
       "      <th>DestAirportID</th>\n",
       "      <th>CRSDepTime</th>\n",
       "      <th>DepDelay</th>\n",
       "      <th>DepDel15</th>\n",
       "      <th>CRSArrTime</th>\n",
       "      <th>ArrDelay</th>\n",
       "      <th>ArrDel15</th>\n",
       "      <th>Cancelled</th>\n",
       "      <th>Origincity</th>\n",
       "      <th>Originstate</th>\n",
       "      <th>Originname</th>\n",
       "      <th>Dest_city</th>\n",
       "      <th>Dest_state</th>\n",
       "      <th>Dest_name</th>\n",
       "    </tr>\n",
       "  </thead>\n",
       "  <tbody>\n",
       "    <tr>\n",
       "      <th>0</th>\n",
       "      <td>2013</td>\n",
       "      <td>4</td>\n",
       "      <td>19</td>\n",
       "      <td>5</td>\n",
       "      <td>DL</td>\n",
       "      <td>11433</td>\n",
       "      <td>13303</td>\n",
       "      <td>837</td>\n",
       "      <td>-3</td>\n",
       "      <td>0.0</td>\n",
       "      <td>1138</td>\n",
       "      <td>1</td>\n",
       "      <td>0</td>\n",
       "      <td>0</td>\n",
       "      <td>Detroit</td>\n",
       "      <td>MI</td>\n",
       "      <td>Detroit Metro Wayne County</td>\n",
       "      <td>Miami</td>\n",
       "      <td>FL</td>\n",
       "      <td>Miami International</td>\n",
       "    </tr>\n",
       "    <tr>\n",
       "      <th>1</th>\n",
       "      <td>2013</td>\n",
       "      <td>4</td>\n",
       "      <td>19</td>\n",
       "      <td>5</td>\n",
       "      <td>DL</td>\n",
       "      <td>14869</td>\n",
       "      <td>12478</td>\n",
       "      <td>1705</td>\n",
       "      <td>0</td>\n",
       "      <td>0.0</td>\n",
       "      <td>2336</td>\n",
       "      <td>-8</td>\n",
       "      <td>0</td>\n",
       "      <td>0</td>\n",
       "      <td>Salt Lake City</td>\n",
       "      <td>UT</td>\n",
       "      <td>Salt Lake City International</td>\n",
       "      <td>New York</td>\n",
       "      <td>NY</td>\n",
       "      <td>John F. Kennedy International</td>\n",
       "    </tr>\n",
       "    <tr>\n",
       "      <th>2</th>\n",
       "      <td>2013</td>\n",
       "      <td>4</td>\n",
       "      <td>19</td>\n",
       "      <td>5</td>\n",
       "      <td>DL</td>\n",
       "      <td>14057</td>\n",
       "      <td>14869</td>\n",
       "      <td>600</td>\n",
       "      <td>-4</td>\n",
       "      <td>0.0</td>\n",
       "      <td>851</td>\n",
       "      <td>-15</td>\n",
       "      <td>0</td>\n",
       "      <td>0</td>\n",
       "      <td>Portland</td>\n",
       "      <td>OR</td>\n",
       "      <td>Portland International</td>\n",
       "      <td>Salt Lake City</td>\n",
       "      <td>UT</td>\n",
       "      <td>Salt Lake City International</td>\n",
       "    </tr>\n",
       "    <tr>\n",
       "      <th>3</th>\n",
       "      <td>2013</td>\n",
       "      <td>4</td>\n",
       "      <td>19</td>\n",
       "      <td>5</td>\n",
       "      <td>DL</td>\n",
       "      <td>15016</td>\n",
       "      <td>11433</td>\n",
       "      <td>1630</td>\n",
       "      <td>28</td>\n",
       "      <td>1.0</td>\n",
       "      <td>1903</td>\n",
       "      <td>24</td>\n",
       "      <td>1</td>\n",
       "      <td>0</td>\n",
       "      <td>St. Louis</td>\n",
       "      <td>MO</td>\n",
       "      <td>Lambert-St. Louis International</td>\n",
       "      <td>Detroit</td>\n",
       "      <td>MI</td>\n",
       "      <td>Detroit Metro Wayne County</td>\n",
       "    </tr>\n",
       "    <tr>\n",
       "      <th>4</th>\n",
       "      <td>2013</td>\n",
       "      <td>4</td>\n",
       "      <td>19</td>\n",
       "      <td>5</td>\n",
       "      <td>DL</td>\n",
       "      <td>11193</td>\n",
       "      <td>12892</td>\n",
       "      <td>1615</td>\n",
       "      <td>-6</td>\n",
       "      <td>0.0</td>\n",
       "      <td>1805</td>\n",
       "      <td>-11</td>\n",
       "      <td>0</td>\n",
       "      <td>0</td>\n",
       "      <td>Cincinnati</td>\n",
       "      <td>OH</td>\n",
       "      <td>Cincinnati/Northern Kentucky International</td>\n",
       "      <td>Los Angeles</td>\n",
       "      <td>CA</td>\n",
       "      <td>Los Angeles International</td>\n",
       "    </tr>\n",
       "  </tbody>\n",
       "</table>\n",
       "</div>"
      ],
      "text/plain": [
       "   Year  Month  DayofMonth  DayOfWeek Carrier  OriginAirportID  DestAirportID  \\\n",
       "0  2013      4          19          5      DL            11433          13303   \n",
       "1  2013      4          19          5      DL            14869          12478   \n",
       "2  2013      4          19          5      DL            14057          14869   \n",
       "3  2013      4          19          5      DL            15016          11433   \n",
       "4  2013      4          19          5      DL            11193          12892   \n",
       "\n",
       "   CRSDepTime  DepDelay  DepDel15  CRSArrTime  ArrDelay  ArrDel15  Cancelled  \\\n",
       "0         837        -3       0.0        1138         1         0          0   \n",
       "1        1705         0       0.0        2336        -8         0          0   \n",
       "2         600        -4       0.0         851       -15         0          0   \n",
       "3        1630        28       1.0        1903        24         1          0   \n",
       "4        1615        -6       0.0        1805       -11         0          0   \n",
       "\n",
       "       Origincity Originstate                                  Originname  \\\n",
       "0         Detroit          MI                  Detroit Metro Wayne County   \n",
       "1  Salt Lake City          UT                Salt Lake City International   \n",
       "2        Portland          OR                      Portland International   \n",
       "3       St. Louis          MO             Lambert-St. Louis International   \n",
       "4      Cincinnati          OH  Cincinnati/Northern Kentucky International   \n",
       "\n",
       "        Dest_city Dest_state                      Dest_name  \n",
       "0           Miami         FL            Miami International  \n",
       "1        New York         NY  John F. Kennedy International  \n",
       "2  Salt Lake City         UT   Salt Lake City International  \n",
       "3         Detroit         MI     Detroit Metro Wayne County  \n",
       "4     Los Angeles         CA      Los Angeles International  "
      ]
     },
     "execution_count": 85,
     "metadata": {},
     "output_type": "execute_result"
    }
   ],
   "source": [
    "import pandas as pd\n",
    "Clean_flight=pd.read_csv(\"/Users/zoyasyed/Downloads/DataScienceEssential_Module3/Module3_project/Flights Challenge-SyedShabana - Results dataset.csv\")\n",
    "df_cl=Clean_flight\n",
    "df_cl.head(5)\n"
   ]
  },
  {
   "cell_type": "code",
   "execution_count": 86,
   "metadata": {},
   "outputs": [
    {
     "data": {
      "text/html": [
       "<div>\n",
       "<style scoped>\n",
       "    .dataframe tbody tr th:only-of-type {\n",
       "        vertical-align: middle;\n",
       "    }\n",
       "\n",
       "    .dataframe tbody tr th {\n",
       "        vertical-align: top;\n",
       "    }\n",
       "\n",
       "    .dataframe thead th {\n",
       "        text-align: right;\n",
       "    }\n",
       "</style>\n",
       "<table border=\"1\" class=\"dataframe\">\n",
       "  <thead>\n",
       "    <tr style=\"text-align: right;\">\n",
       "      <th></th>\n",
       "      <th>Year</th>\n",
       "      <th>Month</th>\n",
       "      <th>DayofMonth</th>\n",
       "      <th>DayOfWeek</th>\n",
       "      <th>OriginAirportID</th>\n",
       "      <th>DestAirportID</th>\n",
       "      <th>CRSDepTime</th>\n",
       "      <th>DepDelay</th>\n",
       "      <th>DepDel15</th>\n",
       "      <th>CRSArrTime</th>\n",
       "      <th>ArrDelay</th>\n",
       "      <th>ArrDel15</th>\n",
       "      <th>Cancelled</th>\n",
       "    </tr>\n",
       "  </thead>\n",
       "  <tbody>\n",
       "    <tr>\n",
       "      <th>count</th>\n",
       "      <td>2719397.0</td>\n",
       "      <td>2.719397e+06</td>\n",
       "      <td>2.719397e+06</td>\n",
       "      <td>2.719397e+06</td>\n",
       "      <td>2.719397e+06</td>\n",
       "      <td>2.719397e+06</td>\n",
       "      <td>2.719397e+06</td>\n",
       "      <td>2.719397e+06</td>\n",
       "      <td>2.691956e+06</td>\n",
       "      <td>2.719397e+06</td>\n",
       "      <td>2.719397e+06</td>\n",
       "      <td>2.719397e+06</td>\n",
       "      <td>2.719397e+06</td>\n",
       "    </tr>\n",
       "    <tr>\n",
       "      <th>mean</th>\n",
       "      <td>2013.0</td>\n",
       "      <td>6.979968e+00</td>\n",
       "      <td>1.579747e+01</td>\n",
       "      <td>3.898389e+00</td>\n",
       "      <td>1.274226e+04</td>\n",
       "      <td>1.274246e+04</td>\n",
       "      <td>1.326647e+03</td>\n",
       "      <td>1.043062e+01</td>\n",
       "      <td>2.023432e-01</td>\n",
       "      <td>1.505272e+03</td>\n",
       "      <td>6.566923e+00</td>\n",
       "      <td>2.166318e-01</td>\n",
       "      <td>1.067516e-02</td>\n",
       "    </tr>\n",
       "    <tr>\n",
       "      <th>std</th>\n",
       "      <td>0.0</td>\n",
       "      <td>1.984330e+00</td>\n",
       "      <td>8.799863e+00</td>\n",
       "      <td>1.985988e+00</td>\n",
       "      <td>1.501976e+03</td>\n",
       "      <td>1.501968e+03</td>\n",
       "      <td>4.713755e+02</td>\n",
       "      <td>3.593247e+01</td>\n",
       "      <td>4.017468e-01</td>\n",
       "      <td>4.939662e+02</td>\n",
       "      <td>3.844812e+01</td>\n",
       "      <td>4.119497e-01</td>\n",
       "      <td>1.027677e-01</td>\n",
       "    </tr>\n",
       "    <tr>\n",
       "      <th>min</th>\n",
       "      <td>2013.0</td>\n",
       "      <td>4.000000e+00</td>\n",
       "      <td>1.000000e+00</td>\n",
       "      <td>1.000000e+00</td>\n",
       "      <td>1.014000e+04</td>\n",
       "      <td>1.014000e+04</td>\n",
       "      <td>1.000000e+00</td>\n",
       "      <td>-6.300000e+01</td>\n",
       "      <td>0.000000e+00</td>\n",
       "      <td>1.000000e+00</td>\n",
       "      <td>-9.400000e+01</td>\n",
       "      <td>0.000000e+00</td>\n",
       "      <td>0.000000e+00</td>\n",
       "    </tr>\n",
       "    <tr>\n",
       "      <th>25%</th>\n",
       "      <td>2013.0</td>\n",
       "      <td>5.000000e+00</td>\n",
       "      <td>8.000000e+00</td>\n",
       "      <td>2.000000e+00</td>\n",
       "      <td>1.129200e+04</td>\n",
       "      <td>1.129200e+04</td>\n",
       "      <td>9.200000e+02</td>\n",
       "      <td>-4.000000e+00</td>\n",
       "      <td>0.000000e+00</td>\n",
       "      <td>1.120000e+03</td>\n",
       "      <td>-1.100000e+01</td>\n",
       "      <td>0.000000e+00</td>\n",
       "      <td>0.000000e+00</td>\n",
       "    </tr>\n",
       "    <tr>\n",
       "      <th>50%</th>\n",
       "      <td>2013.0</td>\n",
       "      <td>7.000000e+00</td>\n",
       "      <td>1.600000e+01</td>\n",
       "      <td>4.000000e+00</td>\n",
       "      <td>1.289200e+04</td>\n",
       "      <td>1.289200e+04</td>\n",
       "      <td>1.320000e+03</td>\n",
       "      <td>-1.000000e+00</td>\n",
       "      <td>0.000000e+00</td>\n",
       "      <td>1.528000e+03</td>\n",
       "      <td>-3.000000e+00</td>\n",
       "      <td>0.000000e+00</td>\n",
       "      <td>0.000000e+00</td>\n",
       "    </tr>\n",
       "    <tr>\n",
       "      <th>75%</th>\n",
       "      <td>2013.0</td>\n",
       "      <td>9.000000e+00</td>\n",
       "      <td>2.300000e+01</td>\n",
       "      <td>6.000000e+00</td>\n",
       "      <td>1.405700e+04</td>\n",
       "      <td>1.405700e+04</td>\n",
       "      <td>1.725000e+03</td>\n",
       "      <td>9.000000e+00</td>\n",
       "      <td>0.000000e+00</td>\n",
       "      <td>1.918000e+03</td>\n",
       "      <td>1.000000e+01</td>\n",
       "      <td>0.000000e+00</td>\n",
       "      <td>0.000000e+00</td>\n",
       "    </tr>\n",
       "    <tr>\n",
       "      <th>max</th>\n",
       "      <td>2013.0</td>\n",
       "      <td>1.000000e+01</td>\n",
       "      <td>3.100000e+01</td>\n",
       "      <td>7.000000e+00</td>\n",
       "      <td>1.537600e+04</td>\n",
       "      <td>1.537600e+04</td>\n",
       "      <td>2.359000e+03</td>\n",
       "      <td>1.863000e+03</td>\n",
       "      <td>1.000000e+00</td>\n",
       "      <td>2.359000e+03</td>\n",
       "      <td>1.845000e+03</td>\n",
       "      <td>1.000000e+00</td>\n",
       "      <td>1.000000e+00</td>\n",
       "    </tr>\n",
       "  </tbody>\n",
       "</table>\n",
       "</div>"
      ],
      "text/plain": [
       "            Year         Month    DayofMonth     DayOfWeek  OriginAirportID  \\\n",
       "count  2719397.0  2.719397e+06  2.719397e+06  2.719397e+06     2.719397e+06   \n",
       "mean      2013.0  6.979968e+00  1.579747e+01  3.898389e+00     1.274226e+04   \n",
       "std          0.0  1.984330e+00  8.799863e+00  1.985988e+00     1.501976e+03   \n",
       "min       2013.0  4.000000e+00  1.000000e+00  1.000000e+00     1.014000e+04   \n",
       "25%       2013.0  5.000000e+00  8.000000e+00  2.000000e+00     1.129200e+04   \n",
       "50%       2013.0  7.000000e+00  1.600000e+01  4.000000e+00     1.289200e+04   \n",
       "75%       2013.0  9.000000e+00  2.300000e+01  6.000000e+00     1.405700e+04   \n",
       "max       2013.0  1.000000e+01  3.100000e+01  7.000000e+00     1.537600e+04   \n",
       "\n",
       "       DestAirportID    CRSDepTime      DepDelay      DepDel15    CRSArrTime  \\\n",
       "count   2.719397e+06  2.719397e+06  2.719397e+06  2.691956e+06  2.719397e+06   \n",
       "mean    1.274246e+04  1.326647e+03  1.043062e+01  2.023432e-01  1.505272e+03   \n",
       "std     1.501968e+03  4.713755e+02  3.593247e+01  4.017468e-01  4.939662e+02   \n",
       "min     1.014000e+04  1.000000e+00 -6.300000e+01  0.000000e+00  1.000000e+00   \n",
       "25%     1.129200e+04  9.200000e+02 -4.000000e+00  0.000000e+00  1.120000e+03   \n",
       "50%     1.289200e+04  1.320000e+03 -1.000000e+00  0.000000e+00  1.528000e+03   \n",
       "75%     1.405700e+04  1.725000e+03  9.000000e+00  0.000000e+00  1.918000e+03   \n",
       "max     1.537600e+04  2.359000e+03  1.863000e+03  1.000000e+00  2.359000e+03   \n",
       "\n",
       "           ArrDelay      ArrDel15     Cancelled  \n",
       "count  2.719397e+06  2.719397e+06  2.719397e+06  \n",
       "mean   6.566923e+00  2.166318e-01  1.067516e-02  \n",
       "std    3.844812e+01  4.119497e-01  1.027677e-01  \n",
       "min   -9.400000e+01  0.000000e+00  0.000000e+00  \n",
       "25%   -1.100000e+01  0.000000e+00  0.000000e+00  \n",
       "50%   -3.000000e+00  0.000000e+00  0.000000e+00  \n",
       "75%    1.000000e+01  0.000000e+00  0.000000e+00  \n",
       "max    1.845000e+03  1.000000e+00  1.000000e+00  "
      ]
     },
     "execution_count": 86,
     "metadata": {},
     "output_type": "execute_result"
    }
   ],
   "source": [
    "df_cl.describe()"
   ]
  },
  {
   "cell_type": "code",
   "execution_count": 87,
   "metadata": {
    "scrolled": true
   },
   "outputs": [
    {
     "data": {
      "text/plain": [
       "count    2.719397e+06\n",
       "mean     6.566923e+00\n",
       "std      3.844812e+01\n",
       "min     -9.400000e+01\n",
       "25%     -1.100000e+01\n",
       "50%     -3.000000e+00\n",
       "75%      1.000000e+01\n",
       "max      1.845000e+03\n",
       "Name: ArrDelay, dtype: float64"
      ]
     },
     "execution_count": 87,
     "metadata": {},
     "output_type": "execute_result"
    }
   ],
   "source": [
    "df_cl['ArrDelay'].describe()"
   ]
  },
  {
   "cell_type": "markdown",
   "metadata": {},
   "source": [
    "1) The median, first quartile, and third quartile are all fairly close to 0, indicating that most flights arrive close to their scheduled time.\n",
    "2)If we see the range some flights arriving as much as 1500 minutes late."
   ]
  },
  {
   "cell_type": "code",
   "execution_count": 88,
   "metadata": {
    "scrolled": true
   },
   "outputs": [
    {
     "name": "stdout",
     "output_type": "stream",
     "text": [
      "range is: 1845\n"
     ]
    },
    {
     "data": {
      "image/png": "[encoded data removed]",
      "text/plain": [
       "<Figure size 720x720 with 1 Axes>"
      ]
     },
     "metadata": {
      "needs_background": "light"
     },
     "output_type": "display_data"
    }
   ],
   "source": [
    "import matplotlib.pyplot as plt\n",
    "%matplotlib inline\n",
    "fig=plt.figure(figsize=(10,10))\n",
    "ax=fig.gca()\n",
    "df_cl.boxplot('ArrDelay',ax=ax,color='blue')\n",
    "range=df_cl.ArrDelay.max()\n",
    "print(\"range is:\",range)"
   ]
  },
  {
   "cell_type": "markdown",
   "metadata": {},
   "source": [
    "1) The distribution is right-skewed, so there is a higher range of values for late flights than for early flights."
   ]
  },
  {
   "cell_type": "code",
   "execution_count": 89,
   "metadata": {},
   "outputs": [
    {
     "data": {
      "text/plain": [
       "Text(0.5, 1.0, 'Distribution of Arrival Delay')"
      ]
     },
     "execution_count": 89,
     "metadata": {},
     "output_type": "execute_result"
    },
    {
     "data": {
      "image/png": "[encoded data removed]",
      "text/plain": [
       "<Figure size 432x288 with 1 Axes>"
      ]
     },
     "metadata": {
      "needs_background": "light"
     },
     "output_type": "display_data"
    }
   ],
   "source": [
    "plt.hist(df_cl.ArrDelay,bins=30,color='red',edgecolor='black', linewidth=1.2)\n",
    "plt.xlabel(\"Arrival Delay\",color=\"Purple\")\n",
    "plt.title(\"Distribution of Arrival Delay\",color='Purple')\n"
   ]
  },
  {
   "cell_type": "markdown",
   "metadata": {},
   "source": [
    "1) There are significantly more flights that are less than 15 minutes late than there are flights that are 15 minutes late or more.\n",
    "2) Flights that are 15 minutes or more late tend to have a higher DepDelay value than flights that are on-time.\n",
    "3) Late flights tend to occur more frequently for flights with a CRSArrTime that is later in the day, the highest volume of delayed flights scheduled to arrive between 3pm (1500 hours) and 8pm (2000 hours)"
   ]
  },
  {
   "cell_type": "code",
   "execution_count": 91,
   "metadata": {},
   "outputs": [
    {
     "data": {
      "image/png": "[encoded data removed]",
      "text/plain": [
       "<Figure size 432x216 with 2 Axes>"
      ]
     },
     "metadata": {
      "needs_background": "light"
     },
     "output_type": "display_data"
    },
    {
     "data": {
      "image/png": "[encoded data removed]",
      "text/plain": [
       "<Figure size 432x216 with 2 Axes>"
      ]
     },
     "metadata": {
      "needs_background": "light"
     },
     "output_type": "display_data"
    },
    {
     "data": {
      "image/png": "[encoded data removed]",
      "text/plain": [
       "<Figure size 432x216 with 2 Axes>"
      ]
     },
     "metadata": {
      "needs_background": "light"
     },
     "output_type": "display_data"
    },
    {
     "data": {
      "image/png": "[encoded data removed]",
      "text/plain": [
       "<Figure size 432x216 with 2 Axes>"
      ]
     },
     "metadata": {
      "needs_background": "light"
     },
     "output_type": "display_data"
    },
    {
     "data": {
      "image/png": "[encoded data removed]",
      "text/plain": [
       "<Figure size 432x216 with 2 Axes>"
      ]
     },
     "metadata": {
      "needs_background": "light"
     },
     "output_type": "display_data"
    },
    {
     "data": {
      "image/png": "[encoded data removed]",
      "text/plain": [
       "<Figure size 432x216 with 2 Axes>"
      ]
     },
     "metadata": {
      "needs_background": "light"
     },
     "output_type": "display_data"
    }
   ],
   "source": [
    "import matplotlib.pyplot as plt\n",
    "%matplotlib inline\n",
    "import seaborn as sns\n",
    "\n",
    "cols=['DepDelay','CRSArrTime','CRSDepTime','DayofMonth','DayOfWeek','Month']\n",
    "for i in cols:\n",
    "    grid1=sns.FacetGrid(df_cl,col='ArrDel15')\n",
    "    grid1.map(plt.hist,i,alpha=.7,color='purple',edgecolor='black', linewidth=1.2)\n",
    "    \n",
    "\n",
    "#1) There are significantly more flights that are less than 15 minutes late than there \n",
    "#are flights that are 15 minutes late or more. \n",
    "#2) Flights that are 15 minutes or more late tend to have a higher DepDelay value \n",
    "#than flights that are on-time. \n",
    "#3) Late flights tend to occur more frequently for flights with a CRSArrTime that \n",
    "#is later in the day, the highest volume of delayed flights scheduled to arrive \n",
    "#between 3pm (1500 hours) and 8pm (2000 hours)"
   ]
  },
  {
   "cell_type": "markdown",
   "metadata": {},
   "source": [
    "1) There is a near-linear relatonship between DepDelay and ArrDelay for late flights. As departure delay increases, so does arrival delay.\n",
    "2) There is an apparent relationship between ArrDelay and CRSDepTime. Flights that depart early in the morning are typically less delayed than flights that are scheduled to depart after around 5am (0500 hours), at which time delays tend to get significantly longer. Delays then gradually get shorter as the day progresses."
   ]
  },
  {
   "cell_type": "code",
   "execution_count": 32,
   "metadata": {
    "scrolled": false
   },
   "outputs": [
    {
     "data": {
      "image/png": "[encoded data removed]",
      "text/plain": [
       "<Figure size 288x288 with 1 Axes>"
      ]
     },
     "metadata": {
      "needs_background": "light"
     },
     "output_type": "display_data"
    },
    {
     "data": {
      "image/png": "[encoded data removed]",
      "text/plain": [
       "<Figure size 288x288 with 1 Axes>"
      ]
     },
     "metadata": {
      "needs_background": "light"
     },
     "output_type": "display_data"
    },
    {
     "data": {
      "image/png": "[encoded data removed]",
      "text/plain": [
       "<Figure size 288x288 with 1 Axes>"
      ]
     },
     "metadata": {
      "needs_background": "light"
     },
     "output_type": "display_data"
    },
    {
     "data": {
      "image/png": "[encoded data removed]",
      "text/plain": [
       "<Figure size 288x288 with 1 Axes>"
      ]
     },
     "metadata": {
      "needs_background": "light"
     },
     "output_type": "display_data"
    },
    {
     "data": {
      "image/png": "[encoded data removed]",
      "text/plain": [
       "<Figure size 288x288 with 1 Axes>"
      ]
     },
     "metadata": {
      "needs_background": "light"
     },
     "output_type": "display_data"
    },
    {
     "data": {
      "image/png": "[encoded data removed]",
      "text/plain": [
       "<Figure size 288x288 with 1 Axes>"
      ]
     },
     "metadata": {
      "needs_background": "light"
     },
     "output_type": "display_data"
    }
   ],
   "source": [
    "import matplotlib.pyplot as plt\n",
    "%matplotlib inline\n",
    "import seaborn as sns\n",
    "# conditioned ScatterPlot\n",
    "cols=['DepDelay','CRSArrTime','CRSDepTime','DayofMonth','DayOfWeek','Month']\n",
    "for i in cols:\n",
    "    fig=plt.figure(figsize=(4,4))\n",
    "    ax=fig.gca()\n",
    "    temp1= df_cl[df_cl['ArrDel15']==0]\n",
    "    temp2=df_cl[df_cl['ArrDel15']==1]\n",
    "    if temp1.shape[0]>0:\n",
    "        temp1.plot(kind='scatter',x=i,y='ArrDelay',ax=ax,color='red')\n",
    "        if temp2.shape[0]>0:\n",
    "            temp2.plot(kind='scatter',x=i,y='ArrDelay',ax=ax,color='blue')\n",
    "            ax.set_title('Scatter plot of Arrival Delay vs. ' +i)\n",
    "       \n"
   ]
  },
  {
   "cell_type": "code",
   "execution_count": 65,
   "metadata": {},
   "outputs": [],
   "source": [
    "#1. Feature selection using Constant dropout\n",
    "numerics = ['int16', 'int32', 'int64', 'float16', 'float32', 'float64']\n",
    "#newdf = list(df1.select_dtypes(include=numerics).columns)\n",
    "newdf = df1.select_dtypes(include=numerics)\n",
    "X=newdf.drop(labels=['ArrDelay'],axis=1)\n",
    "y=newdf[['ArrDelay']]"
   ]
  },
  {
   "cell_type": "code",
   "execution_count": 66,
   "metadata": {},
   "outputs": [
    {
     "data": {
      "text/plain": [
       "((1903577, 14), (1903577, 1))"
      ]
     },
     "execution_count": 66,
     "metadata": {},
     "output_type": "execute_result"
    }
   ],
   "source": [
    "from sklearn.model_selection import train_test_split\n",
    "X_train,X_test,Y_train,Y_test=train_test_split(X,y,test_size=0.3,random_state=0)\n",
    "X_train.shape,Y_train.shape"
   ]
  },
  {
   "cell_type": "code",
   "execution_count": 67,
   "metadata": {},
   "outputs": [
    {
     "data": {
      "text/plain": [
       "VarianceThreshold(threshold=0)"
      ]
     },
     "execution_count": 67,
     "metadata": {},
     "output_type": "execute_result"
    }
   ],
   "source": [
    "from sklearn.feature_selection import VarianceThreshold\n",
    "var_thres=VarianceThreshold(threshold=0)\n",
    "var_thres.fit(X_train)"
   ]
  },
  {
   "cell_type": "code",
   "execution_count": 68,
   "metadata": {},
   "outputs": [
    {
     "data": {
      "text/plain": [
       "13"
      ]
     },
     "execution_count": 68,
     "metadata": {},
     "output_type": "execute_result"
    }
   ],
   "source": [
    "#displays count of Non constant Features\n",
    "sum(var_thres.get_support())\n"
   ]
  },
  {
   "cell_type": "code",
   "execution_count": 69,
   "metadata": {},
   "outputs": [
    {
     "data": {
      "text/plain": [
       "13"
      ]
     },
     "execution_count": 69,
     "metadata": {},
     "output_type": "execute_result"
    }
   ],
   "source": [
    "len(X_train.columns[var_thres.get_support()])"
   ]
  },
  {
   "cell_type": "code",
   "execution_count": 70,
   "metadata": {},
   "outputs": [
    {
     "name": "stdout",
     "output_type": "stream",
     "text": [
      "Constant Features count: ['Year']\n"
     ]
    }
   ],
   "source": [
    "constant_columns=[column for column in X_train.columns\n",
    "                  if column not in X_train.columns[var_thres.get_support()]]\n",
    "print(\"Constant Features count:\",constant_columns)"
   ]
  },
  {
   "cell_type": "code",
   "execution_count": 71,
   "metadata": {},
   "outputs": [],
   "source": [
    "newdf=newdf.drop(constant_columns,axis=1)"
   ]
  },
  {
   "cell_type": "code",
   "execution_count": 72,
   "metadata": {},
   "outputs": [
    {
     "data": {
      "text/plain": [
       "((1903577, 13), (1903577, 1))"
      ]
     },
     "execution_count": 72,
     "metadata": {},
     "output_type": "execute_result"
    }
   ],
   "source": [
    "X=newdf.drop(labels=['ArrDelay'],axis=1)\n",
    "y=newdf[['ArrDelay']]\n",
    "from sklearn.model_selection import train_test_split\n",
    "X_train,X_test,Y_train,Y_test=train_test_split(X,y,test_size=0.3,random_state=0)\n",
    "X_train.shape,Y_train.shape"
   ]
  },
  {
   "cell_type": "code",
   "execution_count": 73,
   "metadata": {},
   "outputs": [
    {
     "data": {
      "image/png": "[encoded data removed]",
      "text/plain": [
       "<Figure size 1080x720 with 2 Axes>"
      ]
     },
     "metadata": {
      "needs_background": "light"
     },
     "output_type": "display_data"
    }
   ],
   "source": [
    "#2. Feature selection using correlation\n",
    "import seaborn as sns\n",
    "import matplotlib.pyplot as plt\n",
    "plt.figure(figsize=(15,10))\n",
    "cor=X_train.corr()\n",
    "sns.heatmap(cor,annot=True)\n",
    "plt.show()\n"
   ]
  },
  {
   "cell_type": "code",
   "execution_count": 74,
   "metadata": {},
   "outputs": [],
   "source": [
    "#With this function selecting the highly correlated features\n",
    "#It will remove the first feature that is correlated with other feature\n",
    "def correlation_feature(dataset,threshold):\n",
    "    col_corr=set()#Set of all correlated columns\n",
    "    corr_matrix=dataset.corr()\n",
    "    for i in range(len(corr_matrix.columns)):\n",
    "        for j in range(i):\n",
    "            if abs(corr_matrix.iloc[i,j])>threshold:#intrested in absolute coeff value\n",
    "                colname=corr_matrix.columns[i]#getting name of column\n",
    "                col_corr.add(colname)\n",
    "    return col_corr"
   ]
  },
  {
   "cell_type": "code",
   "execution_count": 75,
   "metadata": {},
   "outputs": [
    {
     "name": "stdout",
     "output_type": "stream",
     "text": [
      "Length: 4\n",
      "Column names: {'CRSArrTime', 'ArrDel15', 'airport_id_y', 'airport_id_x'}\n"
     ]
    }
   ],
   "source": [
    "corr_feat=correlation_feature(X_train,0.7)\n",
    "print(\"Length:\",len(set(corr_feat)))\n",
    "print(\"Column names:\",corr_feat)"
   ]
  },
  {
   "cell_type": "code",
   "execution_count": 76,
   "metadata": {},
   "outputs": [],
   "source": [
    "X_train=X_train.drop(corr_feat,axis=1)\n",
    "X_test=X_test.drop(corr_feat,axis=1)"
   ]
  },
  {
   "cell_type": "code",
   "execution_count": 77,
   "metadata": {},
   "outputs": [
    {
     "data": {
      "text/html": [
       "<div>\n",
       "<style scoped>\n",
       "    .dataframe tbody tr th:only-of-type {\n",
       "        vertical-align: middle;\n",
       "    }\n",
       "\n",
       "    .dataframe tbody tr th {\n",
       "        vertical-align: top;\n",
       "    }\n",
       "\n",
       "    .dataframe thead th {\n",
       "        text-align: right;\n",
       "    }\n",
       "</style>\n",
       "<table border=\"1\" class=\"dataframe\">\n",
       "  <thead>\n",
       "    <tr style=\"text-align: right;\">\n",
       "      <th></th>\n",
       "      <th>Month</th>\n",
       "      <th>DayofMonth</th>\n",
       "      <th>DayOfWeek</th>\n",
       "      <th>OriginAirportID</th>\n",
       "      <th>DestAirportID</th>\n",
       "      <th>CRSDepTime</th>\n",
       "      <th>DepDelay</th>\n",
       "      <th>DepDel15</th>\n",
       "      <th>Cancelled</th>\n",
       "    </tr>\n",
       "  </thead>\n",
       "  <tbody>\n",
       "    <tr>\n",
       "      <th>2618502</th>\n",
       "      <td>9</td>\n",
       "      <td>10</td>\n",
       "      <td>2</td>\n",
       "      <td>12191</td>\n",
       "      <td>11259</td>\n",
       "      <td>800</td>\n",
       "      <td>-2.0</td>\n",
       "      <td>0.0</td>\n",
       "      <td>0.0</td>\n",
       "    </tr>\n",
       "    <tr>\n",
       "      <th>1082410</th>\n",
       "      <td>4</td>\n",
       "      <td>11</td>\n",
       "      <td>4</td>\n",
       "      <td>12892</td>\n",
       "      <td>14107</td>\n",
       "      <td>2155</td>\n",
       "      <td>-5.0</td>\n",
       "      <td>0.0</td>\n",
       "      <td>0.0</td>\n",
       "    </tr>\n",
       "    <tr>\n",
       "      <th>1552177</th>\n",
       "      <td>7</td>\n",
       "      <td>20</td>\n",
       "      <td>6</td>\n",
       "      <td>15304</td>\n",
       "      <td>13930</td>\n",
       "      <td>1714</td>\n",
       "      <td>84.0</td>\n",
       "      <td>1.0</td>\n",
       "      <td>0.0</td>\n",
       "    </tr>\n",
       "    <tr>\n",
       "      <th>1764740</th>\n",
       "      <td>5</td>\n",
       "      <td>3</td>\n",
       "      <td>5</td>\n",
       "      <td>10721</td>\n",
       "      <td>10397</td>\n",
       "      <td>1346</td>\n",
       "      <td>0.0</td>\n",
       "      <td>0.0</td>\n",
       "      <td>0.0</td>\n",
       "    </tr>\n",
       "    <tr>\n",
       "      <th>1698693</th>\n",
       "      <td>10</td>\n",
       "      <td>2</td>\n",
       "      <td>3</td>\n",
       "      <td>13930</td>\n",
       "      <td>14908</td>\n",
       "      <td>816</td>\n",
       "      <td>-5.0</td>\n",
       "      <td>0.0</td>\n",
       "      <td>0.0</td>\n",
       "    </tr>\n",
       "    <tr>\n",
       "      <th>...</th>\n",
       "      <td>...</td>\n",
       "      <td>...</td>\n",
       "      <td>...</td>\n",
       "      <td>...</td>\n",
       "      <td>...</td>\n",
       "      <td>...</td>\n",
       "      <td>...</td>\n",
       "      <td>...</td>\n",
       "      <td>...</td>\n",
       "    </tr>\n",
       "    <tr>\n",
       "      <th>2249488</th>\n",
       "      <td>9</td>\n",
       "      <td>27</td>\n",
       "      <td>5</td>\n",
       "      <td>10693</td>\n",
       "      <td>11618</td>\n",
       "      <td>1940</td>\n",
       "      <td>27.0</td>\n",
       "      <td>1.0</td>\n",
       "      <td>0.0</td>\n",
       "    </tr>\n",
       "    <tr>\n",
       "      <th>963404</th>\n",
       "      <td>8</td>\n",
       "      <td>27</td>\n",
       "      <td>2</td>\n",
       "      <td>10423</td>\n",
       "      <td>11298</td>\n",
       "      <td>915</td>\n",
       "      <td>2.0</td>\n",
       "      <td>0.0</td>\n",
       "      <td>0.0</td>\n",
       "    </tr>\n",
       "    <tr>\n",
       "      <th>2215125</th>\n",
       "      <td>8</td>\n",
       "      <td>4</td>\n",
       "      <td>7</td>\n",
       "      <td>14122</td>\n",
       "      <td>11057</td>\n",
       "      <td>1715</td>\n",
       "      <td>-4.0</td>\n",
       "      <td>0.0</td>\n",
       "      <td>0.0</td>\n",
       "    </tr>\n",
       "    <tr>\n",
       "      <th>1484420</th>\n",
       "      <td>6</td>\n",
       "      <td>16</td>\n",
       "      <td>7</td>\n",
       "      <td>12266</td>\n",
       "      <td>11292</td>\n",
       "      <td>1904</td>\n",
       "      <td>3.0</td>\n",
       "      <td>0.0</td>\n",
       "      <td>0.0</td>\n",
       "    </tr>\n",
       "    <tr>\n",
       "      <th>305713</th>\n",
       "      <td>8</td>\n",
       "      <td>29</td>\n",
       "      <td>4</td>\n",
       "      <td>10397</td>\n",
       "      <td>15304</td>\n",
       "      <td>845</td>\n",
       "      <td>3.0</td>\n",
       "      <td>0.0</td>\n",
       "      <td>0.0</td>\n",
       "    </tr>\n",
       "  </tbody>\n",
       "</table>\n",
       "<p>1903577 rows × 9 columns</p>\n",
       "</div>"
      ],
      "text/plain": [
       "         Month  DayofMonth  DayOfWeek  OriginAirportID  DestAirportID  \\\n",
       "2618502      9          10          2            12191          11259   \n",
       "1082410      4          11          4            12892          14107   \n",
       "1552177      7          20          6            15304          13930   \n",
       "1764740      5           3          5            10721          10397   \n",
       "1698693     10           2          3            13930          14908   \n",
       "...        ...         ...        ...              ...            ...   \n",
       "2249488      9          27          5            10693          11618   \n",
       "963404       8          27          2            10423          11298   \n",
       "2215125      8           4          7            14122          11057   \n",
       "1484420      6          16          7            12266          11292   \n",
       "305713       8          29          4            10397          15304   \n",
       "\n",
       "         CRSDepTime  DepDelay  DepDel15  Cancelled  \n",
       "2618502         800      -2.0       0.0        0.0  \n",
       "1082410        2155      -5.0       0.0        0.0  \n",
       "1552177        1714      84.0       1.0        0.0  \n",
       "1764740        1346       0.0       0.0        0.0  \n",
       "1698693         816      -5.0       0.0        0.0  \n",
       "...             ...       ...       ...        ...  \n",
       "2249488        1940      27.0       1.0        0.0  \n",
       "963404          915       2.0       0.0        0.0  \n",
       "2215125        1715      -4.0       0.0        0.0  \n",
       "1484420        1904       3.0       0.0        0.0  \n",
       "305713          845       3.0       0.0        0.0  \n",
       "\n",
       "[1903577 rows x 9 columns]"
      ]
     },
     "execution_count": 77,
     "metadata": {},
     "output_type": "execute_result"
    }
   ],
   "source": [
    "X_train"
   ]
  },
  {
   "cell_type": "code",
   "execution_count": 85,
   "metadata": {},
   "outputs": [],
   "source": [
    "#3. Feature selection using information gain\n",
    "newdf_IG = df1.select_dtypes(include=numerics)\n",
    "X=newdf_IG.drop(labels=['ArrDelay'],axis=1)\n",
    "y=newdf_IG[['ArrDelay']]"
   ]
  },
  {
   "cell_type": "code",
   "execution_count": 86,
   "metadata": {},
   "outputs": [
    {
     "data": {
      "text/plain": [
       "((1903577, 14), (1903577, 1))"
      ]
     },
     "execution_count": 86,
     "metadata": {},
     "output_type": "execute_result"
    }
   ],
   "source": [
    "\n",
    "from sklearn.model_selection import train_test_split\n",
    "X_train,X_test,Y_train,Y_test=train_test_split(X,y,test_size=0.3,random_state=0)\n",
    "X_train.shape,Y_train.shape"
   ]
  },
  {
   "cell_type": "code",
   "execution_count": 87,
   "metadata": {},
   "outputs": [
    {
     "name": "stderr",
     "output_type": "stream",
     "text": [
      "/Users/zoyasyed/opt/anaconda3/lib/python3.8/site-packages/sklearn/utils/validation.py:63: DataConversionWarning: A column-vector y was passed when a 1d array was expected. Please change the shape of y to (n_samples, ), for example using ravel().\n",
      "  return f(*args, **kwargs)\n"
     ]
    },
    {
     "data": {
      "text/plain": [
       "array([1.70631305e-04, 8.45186260e-03, 4.88749858e-03, 3.52726040e-03,\n",
       "       2.95455628e-02, 2.23099878e-02, 2.97403796e-02, 6.00983979e-01,\n",
       "       2.93900970e-01, 3.23395045e-02, 5.01162433e-01, 3.86505614e-02,\n",
       "       2.96578646e-02, 2.28288426e-02])"
      ]
     },
     "execution_count": 87,
     "metadata": {},
     "output_type": "execute_result"
    }
   ],
   "source": [
    "from sklearn.feature_selection import mutual_info_regression\n",
    "mutual_info=mutual_info_regression(X_train,Y_train)\n",
    "mutual_info"
   ]
  },
  {
   "cell_type": "code",
   "execution_count": 88,
   "metadata": {},
   "outputs": [
    {
     "data": {
      "text/plain": [
       "DepDelay           0.600984\n",
       "ArrDel15           0.501162\n",
       "DepDel15           0.293901\n",
       "Cancelled          0.038651\n",
       "CRSArrTime         0.032340\n",
       "CRSDepTime         0.029740\n",
       "airport_id_x       0.029658\n",
       "OriginAirportID    0.029546\n",
       "airport_id_y       0.022829\n",
       "DestAirportID      0.022310\n",
       "Month              0.008452\n",
       "DayofMonth         0.004887\n",
       "DayOfWeek          0.003527\n",
       "Year               0.000171\n",
       "dtype: float64"
      ]
     },
     "execution_count": 88,
     "metadata": {},
     "output_type": "execute_result"
    }
   ],
   "source": [
    "mutual_info=pd.Series(mutual_info)\n",
    "mutual_info.index=X_train.columns\n",
    "mutual_info.sort_values(ascending=False)"
   ]
  },
  {
   "cell_type": "code",
   "execution_count": 89,
   "metadata": {},
   "outputs": [
    {
     "data": {
      "text/plain": [
       "<AxesSubplot:>"
      ]
     },
     "execution_count": 89,
     "metadata": {},
     "output_type": "execute_result"
    },
    {
     "data": {
      "image/png": "[encoded data removed]",
      "text/plain": [
       "<Figure size 1440x576 with 1 Axes>"
      ]
     },
     "metadata": {
      "needs_background": "light"
     },
     "output_type": "display_data"
    }
   ],
   "source": [
    "mutual_info.sort_values(ascending=False).plot.bar(figsize=(20,8))"
   ]
  },
  {
   "cell_type": "code",
   "execution_count": null,
   "metadata": {},
   "outputs": [],
   "source": []
  },
  {
   "cell_type": "code",
   "execution_count": null,
   "metadata": {},
   "outputs": [],
   "source": []
  }
 ],
 "metadata": {
  "kernelspec": {
   "display_name": "Python 3",
   "language": "python",
   "name": "python3"
  },
  "language_info": {
   "codemirror_mode": {
    "name": "ipython",
    "version": 3
   },
   "file_extension": ".py",
   "mimetype": "text/x-python",
   "name": "python",
   "nbconvert_exporter": "python",
   "pygments_lexer": "ipython3",
   "version": "3.8.5"
  }
 },
 "nbformat": 4,
 "nbformat_minor": 4
}
